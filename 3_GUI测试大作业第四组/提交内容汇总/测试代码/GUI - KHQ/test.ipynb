{
 "cells": [
  {
   "cell_type": "code",
   "execution_count": 1,
   "metadata": {},
   "outputs": [],
   "source": [
    "from selenium import webdriver\n",
    "from selenium.webdriver.support.ui import Select\n",
    "from time import sleep\n"
   ]
  },
  {
   "cell_type": "code",
   "execution_count": 2,
   "metadata": {},
   "outputs": [],
   "source": [
    "driver = webdriver.Chrome('./chromedriver.exe')\n",
    "driver.get('https://zhiyuan.sjtu.edu.cn/html/zhiyuan/course_list.php?bg=jxfw')"
   ]
  },
  {
   "cell_type": "code",
   "execution_count": 5,
   "metadata": {},
   "outputs": [],
   "source": [
    "driver.find_element_by_xpath('/html/body/div[2]/div/form/div/div[1]/div/div[1]/div/div/input').click()\n",
    "assert [ele.text for ele in driver.find_elements_by_xpath('/html/body/div[2]/div/form/div/div[1]/div/div[1]/div/dl/dd')] == ['学年', '2019-2020学年', '2018-2019学年', '2017-2018学年', '2016-2017学年', '2015-2016学年', '2014-2015学年', '2013-2014学年', '2012-2013学年', '2011-2012学年', '2010-2011学年', '2009-2010学年', '2008-2009学年']\n",
    "driver.find_element_by_xpath('/html/body/div[2]/div/form/div/div[1]/div/div[1]/div/dl/dd[3]').click() # 2018-2019学年\n",
    "assert driver.find_element_by_xpath('/html/body/div[2]/div/form/div/div[1]/div/div[1]/div/dl/dd[3]').get_attribute('class') == 'layui-this'\n",
    "\n",
    "driver.find_element_by_xpath('/html/body/div[2]/div/form/div/div[1]/div/div[2]/div/div/input').click()\n",
    "assert [ele.text for ele in driver.find_elements_by_xpath('/html/body/div[2]/div/form/div/div[1]/div/div[2]/div/dl/dd')] == ['学期', '秋季', '春季', '夏季']\n",
    "driver.find_element_by_xpath('/html/body/div[2]/div/form/div/div[1]/div/div[2]/div/dl/dd[2]').click() # 秋季\n",
    "assert driver.find_element_by_xpath('/html/body/div[2]/div/form/div/div[1]/div/div[2]/div/dl/dd[2]').get_attribute('class') == 'layui-this'\n",
    "\n",
    "driver.find_element_by_xpath('/html/body/div[2]/div/form/div/div[1]/div/div[3]/div/div/input').click()\n",
    "assert [ele.text for ele in driver.find_elements_by_xpath('/html/body/div[2]/div/form/div/div[1]/div/div[3]/div/dl/dd')] == ['专业', '数理科学', '数学', '物理学', '生命科学', '计算机科学', '化学', '工科', '生物医学科学']\n",
    "driver.find_element_by_xpath('/html/body/div[2]/div/form/div/div[1]/div/div[3]/div/dl/dd[6]').click() # 计算机科学\n",
    "assert driver.find_element_by_xpath('/html/body/div[2]/div/form/div/div[1]/div/div[3]/div/dl/dd[6]').get_attribute('class') == 'layui-this'\n",
    "\n",
    "driver.find_element_by_xpath('/html/body/div[2]/div/form/div/div[1]/div/div[4]/div/div/input').click()\n",
    "assert [ele.text for ele in driver.find_elements_by_xpath('/html/body/div[2]/div/form/div/div[1]/div/div[4]/div/dl/dd')] == ['年级', '2019级', '2018级', '2017级', '2016级', '2015级', '2014级', '2013级', '2012级', '2011级', '2010级', '2009级', '2008级']\n",
    "driver.find_element_by_xpath('/html/body/div[2]/div/form/div/div[1]/div/div[4]/div/dl/dd[4]').click() # 2017级\n",
    "assert driver.find_element_by_xpath('/html/body/div[2]/div/form/div/div[1]/div/div[4]/div/dl/dd[4]').get_attribute('class') == 'layui-this'"
   ]
  },
  {
   "cell_type": "code",
   "execution_count": 6,
   "metadata": {},
   "outputs": [],
   "source": [
    "driver.find_element_by_xpath('/html/body/div[2]/div/form/div/div[2]/button').click() # 筛选"
   ]
  },
  {
   "cell_type": "code",
   "execution_count": 7,
   "metadata": {},
   "outputs": [],
   "source": [
    "assert driver.find_elements_by_class_name('course-item').__len__() == 9\n",
    "for ele in driver.find_elements_by_class_name('course-item'):\n",
    "    assert '2018 秋季 计算机科学 2017' in ele.text"
   ]
  },
  {
   "cell_type": "code",
   "execution_count": null,
   "metadata": {},
   "outputs": [],
   "source": []
  },
  {
   "cell_type": "code",
   "execution_count": 8,
   "metadata": {},
   "outputs": [],
   "source": [
    "driver = webdriver.Chrome('./chromedriver.exe')\n",
    "driver.get('https://zhiyuan.sjtu.edu.cn/html/zhiyuan/index.php')"
   ]
  },
  {
   "cell_type": "code",
   "execution_count": 23,
   "metadata": {},
   "outputs": [],
   "source": [
    "pictures = set()\n",
    "for i in range(30):\n",
    "    pictures.add(driver.find_element_by_class_name('swiper-slide-active').find_element_by_tag_name('img').get_attribute('src'))\n",
    "    sleep(1)\n",
    "assert pictures.__len__() == 4\n",
    "for path in ['https://zhiyuan.sjtu.edu.cn/images/articleImages/original/php0bBTJb1589185690.png', 'https://zhiyuan.sjtu.edu.cn/images/articleImages/original/phpYq3AR11589186116.png', 'https://zhiyuan.sjtu.edu.cn/images/articleImages/original/phpasUtIl1585035323.jpg', 'https://zhiyuan.sjtu.edu.cn/images/articleImages/original/phpo1kIof1585035323.jpg']:\n",
    "    assert path in pictures"
   ]
  },
  {
   "cell_type": "code",
   "execution_count": 31,
   "metadata": {},
   "outputs": [],
   "source": [
    "for i in range(1, 5):\n",
    "    driver.find_element_by_xpath('/html/body/div[1]/div/div[2]/span[%d]' % i).click()\n",
    "    assert 'swiper-pagination-bullet-active' in driver.find_element_by_xpath('/html/body/div[1]/div/div[2]/span[%d]' % i).get_attribute('class')"
   ]
  },
  {
   "cell_type": "code",
   "execution_count": null,
   "metadata": {},
   "outputs": [],
   "source": []
  },
  {
   "cell_type": "code",
   "execution_count": null,
   "metadata": {},
   "outputs": [],
   "source": [
    "from selenium.webdriver.common.keys import Keys\n",
    "import win32gui, win32con\n",
    "import time"
   ]
  },
  {
   "cell_type": "code",
   "execution_count": 97,
   "metadata": {},
   "outputs": [],
   "source": [
    "driver = webdriver.Chrome('./chromedriver.exe')\n",
    "driver.get('https://zhiyuan.sjtu.edu.cn/html/zhiyuan/service_list.php?bg=jxfw')"
   ]
  },
  {
   "cell_type": "code",
   "execution_count": 113,
   "metadata": {},
   "outputs": [],
   "source": [
    "driver.find_element_by_xpath('/html/body/div[2]/div/form/div/div[1]/div/div/input').click()  # click major select\n",
    "driver.find_element_by_xpath('/html/body/div[2]/div/form/div/div[1]/div/dl/dd[6]').click()  # select major\n",
    "driver.find_element_by_xpath('/html/body/div[2]/div/form/div/div[2]/div/div').click()  # click grade select\n",
    "driver.find_element_by_xpath('/html/body/div[2]/div/form/div/div[2]/div/dl/dd[5]').click()  # select grade\n",
    "driver.find_element_by_xpath('/html/body/div[2]/div/form/div/div[3]/button').click()"
   ]
  },
  {
   "cell_type": "code",
   "execution_count": 99,
   "metadata": {},
   "outputs": [],
   "source": [
    "assert driver.find_element_by_xpath('/html/body/div[3]/div/div/iframe').get_attribute('src') == 'https://zhiyuan.sjtu.edu.cn/DevelopmentPlan/%E8%AE%A1%E7%AE%97%E6%9C%BA%E7%A7%91%E5%AD%A6/%7B2017%E7%BA%A7%7D-%7B%E8%AE%A1%E7%AE%97%E6%9C%BA%E7%A7%91%E5%AD%A6%E6%96%B9%E5%90%91%7D.pdf'"
   ]
  },
  {
   "cell_type": "code",
   "execution_count": 234,
   "metadata": {},
   "outputs": [
    {
     "output_type": "error",
     "ename": "WebDriverException",
     "evalue": "Message: chrome not reachable\n  (Session info: chrome=83.0.4103.97)\n",
     "traceback": [
      "\u001b[1;31m---------------------------------------------------------------------------\u001b[0m",
      "\u001b[1;31mWebDriverException\u001b[0m                        Traceback (most recent call last)",
      "\u001b[1;32m<ipython-input-234-d337f31d34d1>\u001b[0m in \u001b[0;36m<module>\u001b[1;34m\u001b[0m\n\u001b[1;32m----> 1\u001b[1;33m \u001b[0mdriver\u001b[0m\u001b[1;33m.\u001b[0m\u001b[0mfind_element_by_xpath\u001b[0m\u001b[1;33m(\u001b[0m\u001b[1;34m'/html/body/div[3]/div/div/iframe'\u001b[0m\u001b[1;33m)\u001b[0m\u001b[1;33m.\u001b[0m\u001b[0mclick\u001b[0m\u001b[1;33m(\u001b[0m\u001b[1;33m)\u001b[0m\u001b[1;33m\u001b[0m\u001b[1;33m\u001b[0m\u001b[0m\n\u001b[0m\u001b[0;32m      2\u001b[0m \u001b[0mdriver\u001b[0m\u001b[1;33m.\u001b[0m\u001b[0mfind_element_by_xpath\u001b[0m\u001b[1;33m(\u001b[0m\u001b[1;34m'/html/body/div[3]/div/div/iframe'\u001b[0m\u001b[1;33m)\u001b[0m\u001b[1;33m.\u001b[0m\u001b[0msend_keys\u001b[0m\u001b[1;33m(\u001b[0m\u001b[0mKeys\u001b[0m\u001b[1;33m.\u001b[0m\u001b[0mTAB\u001b[0m\u001b[1;33m)\u001b[0m\u001b[1;33m\u001b[0m\u001b[1;33m\u001b[0m\u001b[0m\n\u001b[0;32m      3\u001b[0m \u001b[0mdriver\u001b[0m\u001b[1;33m.\u001b[0m\u001b[0mfind_element_by_xpath\u001b[0m\u001b[1;33m(\u001b[0m\u001b[1;34m'/html/body/div[3]/div/div/iframe'\u001b[0m\u001b[1;33m)\u001b[0m\u001b[1;33m.\u001b[0m\u001b[0msend_keys\u001b[0m\u001b[1;33m(\u001b[0m\u001b[0mKeys\u001b[0m\u001b[1;33m.\u001b[0m\u001b[0mTAB\u001b[0m\u001b[1;33m)\u001b[0m\u001b[1;33m\u001b[0m\u001b[1;33m\u001b[0m\u001b[0m\n\u001b[0;32m      4\u001b[0m \u001b[0mdriver\u001b[0m\u001b[1;33m.\u001b[0m\u001b[0mfind_element_by_xpath\u001b[0m\u001b[1;33m(\u001b[0m\u001b[1;34m'/html/body/div[3]/div/div/iframe'\u001b[0m\u001b[1;33m)\u001b[0m\u001b[1;33m.\u001b[0m\u001b[0msend_keys\u001b[0m\u001b[1;33m(\u001b[0m\u001b[0mKeys\u001b[0m\u001b[1;33m.\u001b[0m\u001b[0mTAB\u001b[0m\u001b[1;33m)\u001b[0m\u001b[1;33m\u001b[0m\u001b[1;33m\u001b[0m\u001b[0m\n\u001b[0;32m      5\u001b[0m \u001b[0mdriver\u001b[0m\u001b[1;33m.\u001b[0m\u001b[0mfind_element_by_xpath\u001b[0m\u001b[1;33m(\u001b[0m\u001b[1;34m'/html/body/div[3]/div/div/iframe'\u001b[0m\u001b[1;33m)\u001b[0m\u001b[1;33m.\u001b[0m\u001b[0msend_keys\u001b[0m\u001b[1;33m(\u001b[0m\u001b[0mKeys\u001b[0m\u001b[1;33m.\u001b[0m\u001b[0mENTER\u001b[0m\u001b[1;33m)\u001b[0m\u001b[1;33m\u001b[0m\u001b[1;33m\u001b[0m\u001b[0m\n",
      "\u001b[1;32mF:\\Python37\\lib\\site-packages\\selenium\\webdriver\\remote\\webdriver.py\u001b[0m in \u001b[0;36mfind_element_by_xpath\u001b[1;34m(self, xpath)\u001b[0m\n\u001b[0;32m    392\u001b[0m             \u001b[0melement\u001b[0m \u001b[1;33m=\u001b[0m \u001b[0mdriver\u001b[0m\u001b[1;33m.\u001b[0m\u001b[0mfind_element_by_xpath\u001b[0m\u001b[1;33m(\u001b[0m\u001b[1;34m'//div/td[1]'\u001b[0m\u001b[1;33m)\u001b[0m\u001b[1;33m\u001b[0m\u001b[1;33m\u001b[0m\u001b[0m\n\u001b[0;32m    393\u001b[0m         \"\"\"\n\u001b[1;32m--> 394\u001b[1;33m         \u001b[1;32mreturn\u001b[0m \u001b[0mself\u001b[0m\u001b[1;33m.\u001b[0m\u001b[0mfind_element\u001b[0m\u001b[1;33m(\u001b[0m\u001b[0mby\u001b[0m\u001b[1;33m=\u001b[0m\u001b[0mBy\u001b[0m\u001b[1;33m.\u001b[0m\u001b[0mXPATH\u001b[0m\u001b[1;33m,\u001b[0m \u001b[0mvalue\u001b[0m\u001b[1;33m=\u001b[0m\u001b[0mxpath\u001b[0m\u001b[1;33m)\u001b[0m\u001b[1;33m\u001b[0m\u001b[1;33m\u001b[0m\u001b[0m\n\u001b[0m\u001b[0;32m    395\u001b[0m \u001b[1;33m\u001b[0m\u001b[0m\n\u001b[0;32m    396\u001b[0m     \u001b[1;32mdef\u001b[0m \u001b[0mfind_elements_by_xpath\u001b[0m\u001b[1;33m(\u001b[0m\u001b[0mself\u001b[0m\u001b[1;33m,\u001b[0m \u001b[0mxpath\u001b[0m\u001b[1;33m)\u001b[0m\u001b[1;33m:\u001b[0m\u001b[1;33m\u001b[0m\u001b[1;33m\u001b[0m\u001b[0m\n",
      "\u001b[1;32mF:\\Python37\\lib\\site-packages\\selenium\\webdriver\\remote\\webdriver.py\u001b[0m in \u001b[0;36mfind_element\u001b[1;34m(self, by, value)\u001b[0m\n\u001b[0;32m    976\u001b[0m         return self.execute(Command.FIND_ELEMENT, {\n\u001b[0;32m    977\u001b[0m             \u001b[1;34m'using'\u001b[0m\u001b[1;33m:\u001b[0m \u001b[0mby\u001b[0m\u001b[1;33m,\u001b[0m\u001b[1;33m\u001b[0m\u001b[1;33m\u001b[0m\u001b[0m\n\u001b[1;32m--> 978\u001b[1;33m             'value': value})['value']\n\u001b[0m\u001b[0;32m    979\u001b[0m \u001b[1;33m\u001b[0m\u001b[0m\n\u001b[0;32m    980\u001b[0m     \u001b[1;32mdef\u001b[0m \u001b[0mfind_elements\u001b[0m\u001b[1;33m(\u001b[0m\u001b[0mself\u001b[0m\u001b[1;33m,\u001b[0m \u001b[0mby\u001b[0m\u001b[1;33m=\u001b[0m\u001b[0mBy\u001b[0m\u001b[1;33m.\u001b[0m\u001b[0mID\u001b[0m\u001b[1;33m,\u001b[0m \u001b[0mvalue\u001b[0m\u001b[1;33m=\u001b[0m\u001b[1;32mNone\u001b[0m\u001b[1;33m)\u001b[0m\u001b[1;33m:\u001b[0m\u001b[1;33m\u001b[0m\u001b[1;33m\u001b[0m\u001b[0m\n",
      "\u001b[1;32mF:\\Python37\\lib\\site-packages\\selenium\\webdriver\\remote\\webdriver.py\u001b[0m in \u001b[0;36mexecute\u001b[1;34m(self, driver_command, params)\u001b[0m\n\u001b[0;32m    319\u001b[0m         \u001b[0mresponse\u001b[0m \u001b[1;33m=\u001b[0m \u001b[0mself\u001b[0m\u001b[1;33m.\u001b[0m\u001b[0mcommand_executor\u001b[0m\u001b[1;33m.\u001b[0m\u001b[0mexecute\u001b[0m\u001b[1;33m(\u001b[0m\u001b[0mdriver_command\u001b[0m\u001b[1;33m,\u001b[0m \u001b[0mparams\u001b[0m\u001b[1;33m)\u001b[0m\u001b[1;33m\u001b[0m\u001b[1;33m\u001b[0m\u001b[0m\n\u001b[0;32m    320\u001b[0m         \u001b[1;32mif\u001b[0m \u001b[0mresponse\u001b[0m\u001b[1;33m:\u001b[0m\u001b[1;33m\u001b[0m\u001b[1;33m\u001b[0m\u001b[0m\n\u001b[1;32m--> 321\u001b[1;33m             \u001b[0mself\u001b[0m\u001b[1;33m.\u001b[0m\u001b[0merror_handler\u001b[0m\u001b[1;33m.\u001b[0m\u001b[0mcheck_response\u001b[0m\u001b[1;33m(\u001b[0m\u001b[0mresponse\u001b[0m\u001b[1;33m)\u001b[0m\u001b[1;33m\u001b[0m\u001b[1;33m\u001b[0m\u001b[0m\n\u001b[0m\u001b[0;32m    322\u001b[0m             response['value'] = self._unwrap_value(\n\u001b[0;32m    323\u001b[0m                 response.get('value', None))\n",
      "\u001b[1;32mF:\\Python37\\lib\\site-packages\\selenium\\webdriver\\remote\\errorhandler.py\u001b[0m in \u001b[0;36mcheck_response\u001b[1;34m(self, response)\u001b[0m\n\u001b[0;32m    240\u001b[0m                 \u001b[0malert_text\u001b[0m \u001b[1;33m=\u001b[0m \u001b[0mvalue\u001b[0m\u001b[1;33m[\u001b[0m\u001b[1;34m'alert'\u001b[0m\u001b[1;33m]\u001b[0m\u001b[1;33m.\u001b[0m\u001b[0mget\u001b[0m\u001b[1;33m(\u001b[0m\u001b[1;34m'text'\u001b[0m\u001b[1;33m)\u001b[0m\u001b[1;33m\u001b[0m\u001b[1;33m\u001b[0m\u001b[0m\n\u001b[0;32m    241\u001b[0m             \u001b[1;32mraise\u001b[0m \u001b[0mexception_class\u001b[0m\u001b[1;33m(\u001b[0m\u001b[0mmessage\u001b[0m\u001b[1;33m,\u001b[0m \u001b[0mscreen\u001b[0m\u001b[1;33m,\u001b[0m \u001b[0mstacktrace\u001b[0m\u001b[1;33m,\u001b[0m \u001b[0malert_text\u001b[0m\u001b[1;33m)\u001b[0m\u001b[1;33m\u001b[0m\u001b[1;33m\u001b[0m\u001b[0m\n\u001b[1;32m--> 242\u001b[1;33m         \u001b[1;32mraise\u001b[0m \u001b[0mexception_class\u001b[0m\u001b[1;33m(\u001b[0m\u001b[0mmessage\u001b[0m\u001b[1;33m,\u001b[0m \u001b[0mscreen\u001b[0m\u001b[1;33m,\u001b[0m \u001b[0mstacktrace\u001b[0m\u001b[1;33m)\u001b[0m\u001b[1;33m\u001b[0m\u001b[1;33m\u001b[0m\u001b[0m\n\u001b[0m\u001b[0;32m    243\u001b[0m \u001b[1;33m\u001b[0m\u001b[0m\n\u001b[0;32m    244\u001b[0m     \u001b[1;32mdef\u001b[0m \u001b[0m_value_or_default\u001b[0m\u001b[1;33m(\u001b[0m\u001b[0mself\u001b[0m\u001b[1;33m,\u001b[0m \u001b[0mobj\u001b[0m\u001b[1;33m,\u001b[0m \u001b[0mkey\u001b[0m\u001b[1;33m,\u001b[0m \u001b[0mdefault\u001b[0m\u001b[1;33m)\u001b[0m\u001b[1;33m:\u001b[0m\u001b[1;33m\u001b[0m\u001b[1;33m\u001b[0m\u001b[0m\n",
      "\u001b[1;31mWebDriverException\u001b[0m: Message: chrome not reachable\n  (Session info: chrome=83.0.4103.97)\n"
     ]
    }
   ],
   "source": [
    "driver.find_element_by_xpath('/html/body/div[3]/div/div/iframe').click()\n",
    "driver.find_element_by_xpath('/html/body/div[3]/div/div/iframe').send_keys(Keys.TAB)\n",
    "driver.find_element_by_xpath('/html/body/div[3]/div/div/iframe').send_keys(Keys.TAB)\n",
    "driver.find_element_by_xpath('/html/body/div[3]/div/div/iframe').send_keys(Keys.TAB)\n",
    "driver.find_element_by_xpath('/html/body/div[3]/div/div/iframe').send_keys(Keys.ENTER)\n",
    "driver.find_element_by_xpath('/html/body/div[3]/div/div/iframe').send_keys(Keys.ENTER)\n",
    "driver.find_element_by_xpath('/html/body/div[3]/div/div/iframe').send_keys(Keys.ENTER)\n",
    "driver.find_element_by_xpath('/html/body/div[3]/div/div/iframe').send_keys(Keys.ENTER)\n",
    "driver.find_element_by_xpath('/html/body/div[3]/div/div/iframe').send_keys(Keys.TAB)\n",
    "driver.find_element_by_xpath('/html/body/div[3]/div/div/iframe').send_keys(Keys.ENTER)\n",
    "time.sleep(1)\n",
    "dialog = win32gui.FindWindow('#32770', u'另存为')\n",
    "ComboBoxEx32 = win32gui.FindWindowEx(dialog, 0, 'ComboBoxEx32', None) \n",
    "ComboBox = win32gui.FindWindowEx(ComboBoxEx32, 0, 'ComboBox', None)\n",
    "button = win32gui.FindWindowEx(dialog, 0, 'Button', None)  # 确定按钮Button\n",
    "time.sleep(1)\n",
    "win32gui.SendMessage(dialog, win32con.WM_COMMAND, 1, button)  # 按button"
   ]
  },
  {
   "cell_type": "code",
   "execution_count": 222,
   "metadata": {},
   "outputs": [
    {
     "output_type": "execute_result",
     "data": {
      "text/plain": "0"
     },
     "metadata": {},
     "execution_count": 222
    }
   ],
   "source": [
    "frame = driver.find_element_by_xpath('/html/body/div[3]/div/div/iframe')\n",
    "driver.switch_to.frame(frame)"
   ]
  },
  {
   "cell_type": "code",
   "execution_count": null,
   "metadata": {},
   "outputs": [],
   "source": []
  }
 ],
 "metadata": {
  "language_info": {
   "codemirror_mode": {
    "name": "ipython",
    "version": 3
   },
   "file_extension": ".py",
   "mimetype": "text/x-python",
   "name": "python",
   "nbconvert_exporter": "python",
   "pygments_lexer": "ipython3",
   "version": "3.7.4-final"
  },
  "orig_nbformat": 2,
  "kernelspec": {
   "name": "python37464bit03327f06f20b443d8256ca2d1e1dfb77",
   "display_name": "Python 3.7.4 64-bit"
  }
 },
 "nbformat": 4,
 "nbformat_minor": 2
}